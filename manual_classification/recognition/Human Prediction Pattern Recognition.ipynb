{
 "cells": [
  {
   "cell_type": "code",
   "execution_count": 3,
   "metadata": {},
   "outputs": [
    {
     "name": "stderr",
     "output_type": "stream",
     "text": [
      "Enabling notebook extension jupyter-js-widgets/extension...\n",
      "      - Validating: ok\n"
     ]
    }
   ],
   "source": [
    "MY_INITIALS = \"SF\"\n",
    "\n",
    "!pip -q install ipywidgets\n",
    "!jupyter nbextension enable --py widgetsnbextension\n",
    "\n",
    "import pandas as pd\n",
    "from PIL import Image\n",
    "from IPython.display import display, Markdown, clear_output\n",
    "import ipywidgets as widgets\n",
    "import random\n",
    "import numpy as np\n",
    "from datetime import datetime\n",
    "ranges = pd.read_csv(\"data/ranges_nocorr.csv\")[\"0\"]"
   ]
  },
  {
   "cell_type": "code",
   "execution_count": 4,
   "metadata": {},
   "outputs": [
    {
     "data": {
      "application/vnd.jupyter.widget-view+json": {
       "model_id": "9fd0206681324e7cb7a8d5f5f1f69f4d",
       "version_major": 2,
       "version_minor": 0
      },
      "text/plain": [
       "VBox(children=(FloatSlider(value=1.0, max=1.0, step=0.05), Button(description='Confirm', style=ButtonStyle()),…"
      ]
     },
     "metadata": {},
     "output_type": "display_data"
    }
   ],
   "source": [
    "guesses = []\n",
    "truths = []\n",
    "n_guess = 1\n",
    "samples = random.sample(range(0, len(ranges)), 100)\n",
    "\n",
    "idx = samples[n_guess - 1]\n",
    "img = Image.open(\"data/newimgs/\" + str(idx) + \".jpg\", )\n",
    "\n",
    "slider = widgets.FloatSlider(\n",
    "         value=1,\n",
    "         min=0,\n",
    "         max=1,\n",
    "         step=0.05,)\n",
    "out = widgets.Output()\n",
    "\n",
    "button = widgets.Button(description='Confirm')\n",
    "nextb = widgets.Button(description=\"Next\")\n",
    "\n",
    "def on_conf(_):\n",
    "    button.disabled = True\n",
    "    nextb.disabled = False\n",
    "    with out:\n",
    "        global idx\n",
    "        global n_guess\n",
    "        guesses.append(slider.value)\n",
    "        q = ranges[idx]\n",
    "        truths.append(q)\n",
    "        print(f\"Correct answer was {q:.2f}, you were wrong by\", round(abs(slider.value-q), 2))\n",
    "        print(\"guess number\", n_guess, \"/100\")\n",
    "        if n_guess == 100:\n",
    "            clear_output()\n",
    "            results = pd.DataFrame(data = np.array([np.array(guesses), np.array(truths)]).T, columns = [\"guesses\", \"truths\"])\n",
    "            now = datetime.now()\n",
    "            path = \"results\" + now.strftime(\"%d_%m__%H_%M\") + MY_INITIALS + \".csv\"\n",
    "            results.to_csv(path)      \n",
    "            print(\"your mean error is\", np.mean(np.abs(np.array(guesses) - np.array(truths))))\n",
    "        n_guess = n_guess + 1\n",
    "\n",
    "def on_next(_):\n",
    "    button.disabled = False\n",
    "    nextb.disabled = True\n",
    "    with out:\n",
    "        global idx\n",
    "        clear_output()\n",
    "        try:\n",
    "            idx = samples[n_guess - 1]\n",
    "            img = Image.open(\"data/newimgs/\" + str(idx) + \".jpg\")\n",
    "            display(img)\n",
    "        except:\n",
    "            results = pd.DataFrame(data = np.array([np.array(guesses), np.array(truths)]).T, columns = [\"guesses\", \"truths\"])\n",
    "            path = \"results\" + now.strftime(\"%d_%m__%H_%M\") + MY_INITIALS + \".csv\"\n",
    "            results.to_csv(path)    \n",
    "        \n",
    "button.on_click(on_conf)\n",
    "nextb.on_click(on_next)\n",
    "\n",
    "\n",
    "box = widgets.VBox([slider, button, nextb, out])\n",
    "with out:\n",
    "    display(img)\n",
    "box\n",
    "\n",
    "\n"
   ]
  },
  {
   "cell_type": "code",
   "execution_count": null,
   "metadata": {},
   "outputs": [],
   "source": []
  }
 ],
 "metadata": {
  "kernelspec": {
   "display_name": "Python 3",
   "language": "python",
   "name": "python3"
  },
  "language_info": {
   "codemirror_mode": {
    "name": "ipython",
    "version": 3
   },
   "file_extension": ".py",
   "mimetype": "text/x-python",
   "name": "python",
   "nbconvert_exporter": "python",
   "pygments_lexer": "ipython3",
   "version": "3.7.1"
  }
 },
 "nbformat": 4,
 "nbformat_minor": 4
}
