{
 "cells": [
  {
   "cell_type": "markdown",
   "metadata": {
    "id": "yb9sHgDXbyhn"
   },
   "source": [
    "## Package and data import\n"
   ]
  },
  {
   "cell_type": "markdown",
   "metadata": {},
   "source": [
    "Requires the following packages:\n",
    "spektral\n",
    "tensorflow\n",
    "networkx\n",
    "matplotlib\n",
    "numpy\n",
    "pandas"
   ]
  },
  {
   "cell_type": "code",
   "execution_count": 7,
   "metadata": {
    "colab": {
     "base_uri": "https://localhost:8080/"
    },
    "id": "UMEy7nLX6wU6",
    "outputId": "b1c50a4b-03f8-4c95-d414-c00e6277efe8"
   },
   "outputs": [
    {
     "name": "stdout",
     "output_type": "stream",
     "text": [
      "Collecting spektral\n",
      "  Downloading spektral-1.2.0-py3-none-any.whl (140 kB)\n",
      "\u001b[K     |████████████████████████████████| 140 kB 2.0 MB/s eta 0:00:01\n",
      "\u001b[?25hRequirement already satisfied: numpy in /home/jo/miniconda3/lib/python3.9/site-packages (from spektral) (1.22.4)\n",
      "Collecting lxml\n",
      "  Downloading lxml-4.9.1-cp39-cp39-manylinux_2_17_x86_64.manylinux2014_x86_64.manylinux_2_24_x86_64.whl (7.0 MB)\n",
      "\u001b[K     |████████████████████████████████| 7.0 MB 2.9 MB/s eta 0:00:01\n",
      "\u001b[?25hCollecting joblib\n",
      "  Using cached joblib-1.1.0-py2.py3-none-any.whl (306 kB)\n",
      "Requirement already satisfied: requests in /home/jo/miniconda3/lib/python3.9/site-packages (from spektral) (2.27.1)\n",
      "Collecting scipy\n",
      "  Downloading scipy-1.9.0-cp39-cp39-manylinux_2_17_x86_64.manylinux2014_x86_64.whl (43.9 MB)\n",
      "\u001b[K     |████████████████████████████████| 43.9 MB 1.4 MB/s eta 0:00:011\n",
      "\u001b[?25hRequirement already satisfied: pandas in /home/jo/miniconda3/lib/python3.9/site-packages (from spektral) (1.4.2)\n",
      "Collecting networkx\n",
      "  Downloading networkx-2.8.5-py3-none-any.whl (2.0 MB)\n",
      "\u001b[K     |████████████████████████████████| 2.0 MB 2.6 MB/s eta 0:00:01\n",
      "\u001b[?25hCollecting scikit-learn\n",
      "  Downloading scikit_learn-1.1.1-cp39-cp39-manylinux_2_17_x86_64.manylinux2014_x86_64.whl (30.8 MB)\n",
      "\u001b[K     |████████████████████████████████| 30.8 MB 2.9 MB/s eta 0:00:01\n",
      "\u001b[?25hCollecting tensorflow>=2.2.0\n",
      "  Downloading tensorflow-2.9.1-cp39-cp39-manylinux_2_17_x86_64.manylinux2014_x86_64.whl (511.7 MB)\n",
      "\u001b[K     |████████████████████████████████| 511.7 MB 2.6 kB/s eta 0:00:019\n",
      "\u001b[?25hRequirement already satisfied: tqdm in /home/jo/miniconda3/lib/python3.9/site-packages (from spektral) (4.62.3)\n",
      "Collecting google-pasta>=0.1.1\n",
      "  Downloading google_pasta-0.2.0-py3-none-any.whl (57 kB)\n",
      "\u001b[K     |████████████████████████████████| 57 kB 2.0 MB/s eta 0:00:01\n",
      "\u001b[?25hRequirement already satisfied: setuptools in /home/jo/miniconda3/lib/python3.9/site-packages (from tensorflow>=2.2.0->spektral) (58.0.4)\n",
      "Collecting h5py>=2.9.0\n",
      "  Downloading h5py-3.7.0-cp39-cp39-manylinux_2_12_x86_64.manylinux2010_x86_64.whl (4.5 MB)\n",
      "\u001b[K     |████████████████████████████████| 4.5 MB 2.5 MB/s eta 0:00:01\n",
      "\u001b[?25hRequirement already satisfied: six>=1.12.0 in /home/jo/miniconda3/lib/python3.9/site-packages (from tensorflow>=2.2.0->spektral) (1.16.0)\n",
      "Collecting keras-preprocessing>=1.1.1\n",
      "  Downloading Keras_Preprocessing-1.1.2-py2.py3-none-any.whl (42 kB)\n",
      "\u001b[K     |████████████████████████████████| 42 kB 863 kB/s eta 0:00:01\n",
      "\u001b[?25hCollecting gast<=0.4.0,>=0.2.1\n",
      "  Downloading gast-0.4.0-py3-none-any.whl (9.8 kB)\n",
      "Collecting opt-einsum>=2.3.2\n",
      "  Downloading opt_einsum-3.3.0-py3-none-any.whl (65 kB)\n",
      "\u001b[K     |████████████████████████████████| 65 kB 1.7 MB/s eta 0:00:01\n",
      "\u001b[?25hCollecting libclang>=13.0.0\n",
      "  Downloading libclang-14.0.6-py2.py3-none-manylinux2010_x86_64.whl (14.1 MB)\n",
      "\u001b[K     |████████████████████████████████| 14.1 MB 2.7 MB/s eta 0:00:01\n",
      "\u001b[?25hCollecting termcolor>=1.1.0\n",
      "  Downloading termcolor-1.1.0.tar.gz (3.9 kB)\n",
      "Collecting absl-py>=1.0.0\n",
      "  Downloading absl_py-1.2.0-py3-none-any.whl (123 kB)\n",
      "\u001b[K     |████████████████████████████████| 123 kB 2.8 MB/s eta 0:00:01\n",
      "\u001b[?25hCollecting tensorflow-estimator<2.10.0,>=2.9.0rc0\n",
      "  Downloading tensorflow_estimator-2.9.0-py2.py3-none-any.whl (438 kB)\n",
      "\u001b[K     |████████████████████████████████| 438 kB 2.5 MB/s eta 0:00:01\n",
      "\u001b[?25hCollecting keras<2.10.0,>=2.9.0rc0\n",
      "  Downloading keras-2.9.0-py2.py3-none-any.whl (1.6 MB)\n",
      "\u001b[K     |████████████████████████████████| 1.6 MB 2.5 MB/s eta 0:00:01\n",
      "\u001b[?25hCollecting astunparse>=1.6.0\n",
      "  Downloading astunparse-1.6.3-py2.py3-none-any.whl (12 kB)\n",
      "Requirement already satisfied: packaging in /home/jo/miniconda3/lib/python3.9/site-packages (from tensorflow>=2.2.0->spektral) (21.3)\n",
      "Collecting flatbuffers<2,>=1.12\n",
      "  Downloading flatbuffers-1.12-py2.py3-none-any.whl (15 kB)\n",
      "Collecting protobuf<3.20,>=3.9.2\n",
      "  Downloading protobuf-3.19.4-cp39-cp39-manylinux_2_17_x86_64.manylinux2014_x86_64.whl (1.1 MB)\n",
      "\u001b[K     |████████████████████████████████| 1.1 MB 2.6 MB/s eta 0:00:01\n",
      "\u001b[?25hCollecting typing-extensions>=3.6.6\n",
      "  Using cached typing_extensions-4.3.0-py3-none-any.whl (25 kB)\n",
      "Collecting wrapt>=1.11.0\n",
      "  Downloading wrapt-1.14.1-cp39-cp39-manylinux_2_5_x86_64.manylinux1_x86_64.manylinux_2_17_x86_64.manylinux2014_x86_64.whl (77 kB)\n",
      "\u001b[K     |████████████████████████████████| 77 kB 2.0 MB/s eta 0:00:01\n",
      "\u001b[?25hCollecting tensorboard<2.10,>=2.9\n",
      "  Downloading tensorboard-2.9.1-py3-none-any.whl (5.8 MB)\n",
      "\u001b[K     |████████████████████████████████| 5.8 MB 2.9 MB/s eta 0:00:01\n",
      "\u001b[?25hCollecting tensorflow-io-gcs-filesystem>=0.23.1\n",
      "  Downloading tensorflow_io_gcs_filesystem-0.26.0-cp39-cp39-manylinux_2_12_x86_64.manylinux2010_x86_64.whl (2.4 MB)\n",
      "\u001b[K     |████████████████████████████████| 2.4 MB 2.4 MB/s eta 0:00:01\n",
      "\u001b[?25hCollecting grpcio<2.0,>=1.24.3\n",
      "  Downloading grpcio-1.47.0-cp39-cp39-manylinux_2_17_x86_64.manylinux2014_x86_64.whl (4.5 MB)\n",
      "\u001b[K     |████████████████████████████████| 4.5 MB 1.4 MB/s eta 0:00:01\n",
      "\u001b[?25hRequirement already satisfied: wheel<1.0,>=0.23.0 in /home/jo/miniconda3/lib/python3.9/site-packages (from astunparse>=1.6.0->tensorflow>=2.2.0->spektral) (0.37.1)\n",
      "Collecting google-auth-oauthlib<0.5,>=0.4.1\n",
      "  Downloading google_auth_oauthlib-0.4.6-py2.py3-none-any.whl (18 kB)\n",
      "Collecting tensorboard-data-server<0.7.0,>=0.6.0\n",
      "  Downloading tensorboard_data_server-0.6.1-py3-none-manylinux2010_x86_64.whl (4.9 MB)\n",
      "\u001b[K     |████████████████████████████████| 4.9 MB 2.0 MB/s eta 0:00:01\n",
      "\u001b[?25hCollecting markdown>=2.6.8\n",
      "  Downloading Markdown-3.4.1-py3-none-any.whl (93 kB)\n",
      "\u001b[K     |████████████████████████████████| 93 kB 1.1 MB/s eta 0:00:01\n",
      "\u001b[?25hCollecting google-auth<3,>=1.6.3\n",
      "  Downloading google_auth-2.9.1-py2.py3-none-any.whl (167 kB)\n",
      "\u001b[K     |████████████████████████████████| 167 kB 2.4 MB/s eta 0:00:01\n",
      "\u001b[?25hCollecting tensorboard-plugin-wit>=1.6.0\n",
      "  Downloading tensorboard_plugin_wit-1.8.1-py3-none-any.whl (781 kB)\n",
      "\u001b[K     |████████████████████████████████| 781 kB 2.6 MB/s eta 0:00:01\n",
      "\u001b[?25hCollecting werkzeug>=1.0.1\n",
      "  Downloading Werkzeug-2.2.1-py3-none-any.whl (232 kB)\n",
      "\u001b[K     |████████████████████████████████| 232 kB 2.7 MB/s eta 0:00:01\n",
      "\u001b[?25hCollecting rsa<5,>=3.1.4\n",
      "  Downloading rsa-4.9-py3-none-any.whl (34 kB)\n",
      "Collecting pyasn1-modules>=0.2.1\n",
      "  Downloading pyasn1_modules-0.2.8-py2.py3-none-any.whl (155 kB)\n",
      "\u001b[K     |████████████████████████████████| 155 kB 2.5 MB/s eta 0:00:01\n",
      "\u001b[?25hCollecting cachetools<6.0,>=2.0.0\n",
      "  Downloading cachetools-5.2.0-py3-none-any.whl (9.3 kB)\n",
      "Collecting requests-oauthlib>=0.7.0\n",
      "  Downloading requests_oauthlib-1.3.1-py2.py3-none-any.whl (23 kB)\n",
      "Collecting importlib-metadata>=4.4\n",
      "  Downloading importlib_metadata-4.12.0-py3-none-any.whl (21 kB)\n",
      "Collecting zipp>=0.5\n",
      "  Downloading zipp-3.8.1-py3-none-any.whl (5.6 kB)\n",
      "Collecting pyasn1<0.5.0,>=0.4.6\n",
      "  Downloading pyasn1-0.4.8-py2.py3-none-any.whl (77 kB)\n",
      "\u001b[K     |████████████████████████████████| 77 kB 2.0 MB/s eta 0:00:01\n",
      "\u001b[?25hRequirement already satisfied: certifi>=2017.4.17 in /home/jo/miniconda3/lib/python3.9/site-packages (from requests->spektral) (2022.5.18.1)\n",
      "Requirement already satisfied: urllib3<1.27,>=1.21.1 in /home/jo/miniconda3/lib/python3.9/site-packages (from requests->spektral) (1.26.7)\n",
      "Requirement already satisfied: idna<4,>=2.5 in /home/jo/miniconda3/lib/python3.9/site-packages (from requests->spektral) (3.3)\n",
      "Requirement already satisfied: charset-normalizer~=2.0.0 in /home/jo/miniconda3/lib/python3.9/site-packages (from requests->spektral) (2.0.4)\n",
      "Collecting oauthlib>=3.0.0\n",
      "  Downloading oauthlib-3.2.0-py3-none-any.whl (151 kB)\n",
      "\u001b[K     |████████████████████████████████| 151 kB 2.0 MB/s eta 0:00:01\n",
      "\u001b[?25hRequirement already satisfied: MarkupSafe>=2.1.1 in /home/jo/miniconda3/lib/python3.9/site-packages (from werkzeug>=1.0.1->tensorboard<2.10,>=2.9->tensorflow>=2.2.0->spektral) (2.1.1)\n",
      "Requirement already satisfied: pyparsing!=3.0.5,>=2.0.2 in /home/jo/miniconda3/lib/python3.9/site-packages (from packaging->tensorflow>=2.2.0->spektral) (3.0.9)\n",
      "Requirement already satisfied: python-dateutil>=2.8.1 in /home/jo/miniconda3/lib/python3.9/site-packages (from pandas->spektral) (2.8.2)\n",
      "Requirement already satisfied: pytz>=2020.1 in /home/jo/miniconda3/lib/python3.9/site-packages (from pandas->spektral) (2022.1)\n"
     ]
    },
    {
     "name": "stdout",
     "output_type": "stream",
     "text": [
      "Collecting threadpoolctl>=2.0.0\n",
      "  Using cached threadpoolctl-3.1.0-py3-none-any.whl (14 kB)\n",
      "Building wheels for collected packages: termcolor\n",
      "  Building wheel for termcolor (setup.py) ... \u001b[?25ldone\n",
      "\u001b[?25h  Created wheel for termcolor: filename=termcolor-1.1.0-py3-none-any.whl size=4848 sha256=1da7aa02bd77e01323be4db8d61741cc0c01ecd4a69d3e8ea44b06e8a8be6f29\n",
      "  Stored in directory: /home/jo/.cache/pip/wheels/b6/0d/90/0d1bbd99855f99cb2f6c2e5ff96f8023fad8ec367695f7d72d\n",
      "Successfully built termcolor\n",
      "Installing collected packages: pyasn1, zipp, rsa, pyasn1-modules, oauthlib, cachetools, requests-oauthlib, importlib-metadata, google-auth, werkzeug, tensorboard-plugin-wit, tensorboard-data-server, protobuf, markdown, grpcio, google-auth-oauthlib, absl-py, wrapt, typing-extensions, threadpoolctl, termcolor, tensorflow-io-gcs-filesystem, tensorflow-estimator, tensorboard, scipy, opt-einsum, libclang, keras-preprocessing, keras, joblib, h5py, google-pasta, gast, flatbuffers, astunparse, tensorflow, scikit-learn, networkx, lxml, spektral\n",
      "Successfully installed absl-py-1.2.0 astunparse-1.6.3 cachetools-5.2.0 flatbuffers-1.12 gast-0.4.0 google-auth-2.9.1 google-auth-oauthlib-0.4.6 google-pasta-0.2.0 grpcio-1.47.0 h5py-3.7.0 importlib-metadata-4.12.0 joblib-1.1.0 keras-2.9.0 keras-preprocessing-1.1.2 libclang-14.0.6 lxml-4.9.1 markdown-3.4.1 networkx-2.8.5 oauthlib-3.2.0 opt-einsum-3.3.0 protobuf-3.19.4 pyasn1-0.4.8 pyasn1-modules-0.2.8 requests-oauthlib-1.3.1 rsa-4.9 scikit-learn-1.1.1 scipy-1.9.0 spektral-1.2.0 tensorboard-2.9.1 tensorboard-data-server-0.6.1 tensorboard-plugin-wit-1.8.1 tensorflow-2.9.1 tensorflow-estimator-2.9.0 tensorflow-io-gcs-filesystem-0.26.0 termcolor-1.1.0 threadpoolctl-3.1.0 typing-extensions-4.3.0 werkzeug-2.2.1 wrapt-1.14.1 zipp-3.8.1\n"
     ]
    }
   ],
   "source": [
    "import sys\n",
    "!{sys.executable} -m pip install spektral\n",
    "!{sys.executable} -m pip install tensorflow"
   ]
  },
  {
   "cell_type": "code",
   "execution_count": 1,
   "metadata": {
    "id": "7n_jMvivZU2M"
   },
   "outputs": [
    {
     "name": "stderr",
     "output_type": "stream",
     "text": [
      "2022-08-05 13:11:55.904148: I tensorflow/core/util/util.cc:169] oneDNN custom operations are on. You may see slightly different numerical results due to floating-point round-off errors from different computation orders. To turn them off, set the environment variable `TF_ENABLE_ONEDNN_OPTS=0`.\n",
      "2022-08-05 13:11:55.907060: W tensorflow/stream_executor/platform/default/dso_loader.cc:64] Could not load dynamic library 'libcudart.so.11.0'; dlerror: libcudart.so.11.0: cannot open shared object file: No such file or directory\n",
      "2022-08-05 13:11:55.907071: I tensorflow/stream_executor/cuda/cudart_stub.cc:29] Ignore above cudart dlerror if you do not have a GPU set up on your machine.\n"
     ]
    }
   ],
   "source": [
    "from tensorflow.keras.models import Model\n",
    "from tensorflow.keras.layers import Dense, Dropout\n",
    "from spektral.layers import GCNConv, GlobalSumPool\n",
    "from spektral.data import Dataset\n",
    "import matplotlib.pyplot as plt\n",
    "import networkx as nx\n",
    "from scipy.spatial import Delaunay\n",
    "from scipy.spatial.distance import cdist\n",
    "import numpy as np\n",
    "import itertools\n",
    "import pandas as pd\n",
    "from spektral.data import PackedBatchLoader\n",
    "import scipy.sparse as sp\n",
    "import tensorflow as tf\n",
    "from tensorflow.keras.losses import MeanSquaredError\n",
    "from tensorflow.keras.models import Model\n",
    "from tensorflow.keras.optimizers import Adam\n",
    "\n",
    "from spektral.data import Dataset, DisjointLoader, Graph\n",
    "from spektral.layers import GCSConv, GlobalSumPool\n",
    "from spektral.transforms.normalize_adj import NormalizeAdj\n"
   ]
  },
  {
   "cell_type": "code",
   "execution_count": 2,
   "metadata": {
    "colab": {
     "base_uri": "https://localhost:8080/",
     "height": 202
    },
    "id": "TM7vD-8-ZDRn",
    "outputId": "2880c7ef-b403-43e4-bd09-d823b8bd7534"
   },
   "outputs": [
    {
     "data": {
      "text/html": [
       "<div>\n",
       "<style scoped>\n",
       "    .dataframe tbody tr th:only-of-type {\n",
       "        vertical-align: middle;\n",
       "    }\n",
       "\n",
       "    .dataframe tbody tr th {\n",
       "        vertical-align: top;\n",
       "    }\n",
       "\n",
       "    .dataframe thead th {\n",
       "        text-align: right;\n",
       "    }\n",
       "</style>\n",
       "<table border=\"1\" class=\"dataframe\">\n",
       "  <thead>\n",
       "    <tr style=\"text-align: right;\">\n",
       "      <th></th>\n",
       "      <th>ID</th>\n",
       "      <th>x</th>\n",
       "      <th>y</th>\n",
       "      <th>fate</th>\n",
       "      <th>range</th>\n",
       "    </tr>\n",
       "  </thead>\n",
       "  <tbody>\n",
       "    <tr>\n",
       "      <th>0</th>\n",
       "      <td>0</td>\n",
       "      <td>-4.801333</td>\n",
       "      <td>-1.655811</td>\n",
       "      <td>1.0</td>\n",
       "      <td>0.406433</td>\n",
       "    </tr>\n",
       "    <tr>\n",
       "      <th>1</th>\n",
       "      <td>0</td>\n",
       "      <td>6.582577</td>\n",
       "      <td>1.149428</td>\n",
       "      <td>1.0</td>\n",
       "      <td>0.406433</td>\n",
       "    </tr>\n",
       "    <tr>\n",
       "      <th>2</th>\n",
       "      <td>0</td>\n",
       "      <td>-2.115692</td>\n",
       "      <td>4.748892</td>\n",
       "      <td>1.0</td>\n",
       "      <td>0.406433</td>\n",
       "    </tr>\n",
       "    <tr>\n",
       "      <th>3</th>\n",
       "      <td>0</td>\n",
       "      <td>-0.191970</td>\n",
       "      <td>-4.309731</td>\n",
       "      <td>0.0</td>\n",
       "      <td>0.406433</td>\n",
       "    </tr>\n",
       "    <tr>\n",
       "      <th>4</th>\n",
       "      <td>0</td>\n",
       "      <td>-2.417282</td>\n",
       "      <td>1.562203</td>\n",
       "      <td>1.0</td>\n",
       "      <td>0.406433</td>\n",
       "    </tr>\n",
       "    <tr>\n",
       "      <th>...</th>\n",
       "      <td>...</td>\n",
       "      <td>...</td>\n",
       "      <td>...</td>\n",
       "      <td>...</td>\n",
       "      <td>...</td>\n",
       "    </tr>\n",
       "    <tr>\n",
       "      <th>599995</th>\n",
       "      <td>3999</td>\n",
       "      <td>0.900902</td>\n",
       "      <td>3.883942</td>\n",
       "      <td>0.0</td>\n",
       "      <td>0.848487</td>\n",
       "    </tr>\n",
       "    <tr>\n",
       "      <th>599996</th>\n",
       "      <td>3999</td>\n",
       "      <td>-1.174735</td>\n",
       "      <td>-3.360544</td>\n",
       "      <td>1.0</td>\n",
       "      <td>0.848487</td>\n",
       "    </tr>\n",
       "    <tr>\n",
       "      <th>599997</th>\n",
       "      <td>3999</td>\n",
       "      <td>-4.823881</td>\n",
       "      <td>2.274458</td>\n",
       "      <td>1.0</td>\n",
       "      <td>0.848487</td>\n",
       "    </tr>\n",
       "    <tr>\n",
       "      <th>599998</th>\n",
       "      <td>3999</td>\n",
       "      <td>-1.930040</td>\n",
       "      <td>2.456071</td>\n",
       "      <td>1.0</td>\n",
       "      <td>0.848487</td>\n",
       "    </tr>\n",
       "    <tr>\n",
       "      <th>599999</th>\n",
       "      <td>3999</td>\n",
       "      <td>-2.012984</td>\n",
       "      <td>3.642956</td>\n",
       "      <td>1.0</td>\n",
       "      <td>0.848487</td>\n",
       "    </tr>\n",
       "  </tbody>\n",
       "</table>\n",
       "<p>600000 rows × 5 columns</p>\n",
       "</div>"
      ],
      "text/plain": [
       "          ID         x         y  fate     range\n",
       "0          0 -4.801333 -1.655811   1.0  0.406433\n",
       "1          0  6.582577  1.149428   1.0  0.406433\n",
       "2          0 -2.115692  4.748892   1.0  0.406433\n",
       "3          0 -0.191970 -4.309731   0.0  0.406433\n",
       "4          0 -2.417282  1.562203   1.0  0.406433\n",
       "...      ...       ...       ...   ...       ...\n",
       "599995  3999  0.900902  3.883942   0.0  0.848487\n",
       "599996  3999 -1.174735 -3.360544   1.0  0.848487\n",
       "599997  3999 -4.823881  2.274458   1.0  0.848487\n",
       "599998  3999 -1.930040  2.456071   1.0  0.848487\n",
       "599999  3999 -2.012984  3.642956   1.0  0.848487\n",
       "\n",
       "[600000 rows x 5 columns]"
      ]
     },
     "execution_count": 2,
     "metadata": {},
     "output_type": "execute_result"
    }
   ],
   "source": [
    "path = \"../datasets/DatasetA.csv\"\n",
    "data = pd.read_csv(path)\n",
    "data"
   ]
  },
  {
   "cell_type": "markdown",
   "metadata": {
    "id": "7MwIaaIjb8_W"
   },
   "source": [
    "## Data transformation to graph\n"
   ]
  },
  {
   "cell_type": "code",
   "execution_count": 3,
   "metadata": {
    "id": "tqK8xkbsahKj"
   },
   "outputs": [],
   "source": [
    "n_cells_per_org = 150\n",
    "def filter_organoids(org_data):\n",
    "  fateprops = []\n",
    "  ranges = []\n",
    "  res = []\n",
    "  maxi = max(org_data[\"ID\"])\n",
    "  organoids = [org_data[org_data[\"ID\"] == i] for i in range(maxi)]\n",
    "  for org in organoids:\n",
    "    org = org.reset_index() \n",
    "    fate0count = fate1count = 0\n",
    "    for i in range(n_cells_per_org):\n",
    "      if int(org[\"fate\"].iloc[i]) == 0:\n",
    "        fate0count += 1\n",
    "      else:\n",
    "        fate1count += 1\n",
    "    fateprop = fate0count/fate1count\n",
    "    if fateprop > 1/2 and fateprop < 2:\n",
    "      res.append(org)\n",
    "      fateprops.append(fateprop)\n",
    "  return res, fateprops\n",
    "\n",
    "def to_xy(organoids):\n",
    "  xys = []\n",
    "  for org in organoids:\n",
    "    xys.append(org[[\"x\", \"y\"]].to_numpy())\n",
    "    #yield org[[\"x\", \"y\"]].to_numpy()\n",
    "  return xys\n",
    "  \n",
    "def to_fate(organoids):\n",
    "  fate = []\n",
    "  for org in organoids:\n",
    "    #yield org[\"fate\"].to_numpy()\n",
    "    fate.append(org[\"fate\"].to_numpy())\n",
    "  return fate\n",
    "\n",
    "def to_range(organoids):\n",
    "  ranges = []\n",
    "  for org in organoids:\n",
    "    ranges.append(org[\"range\"].iloc[0])\n",
    "  return ranges"
   ]
  },
  {
   "cell_type": "code",
   "execution_count": 4,
   "metadata": {
    "id": "z67RFFFNjV-8"
   },
   "outputs": [],
   "source": [
    "def create_graph(xy):\n",
    "  G = nx.Graph()\n",
    "  dist = cdist(xy, xy)\n",
    "  tri = Delaunay(xy)\n",
    "  for i in range(n_cells_per_org):\n",
    "    G.add_node(i)\n",
    "\n",
    "  r = 1\n",
    "  for nodes in tri.simplices:\n",
    "    for path in list(itertools.combinations(nodes, 2)):\n",
    "      if dist[path[0],path[1]] < 2*r:\n",
    "            G.add_edge(path[0], path[1], weight = dist[path[0],path[1]])\n",
    "            #alternative:!\n",
    "            #G.add_edge(path[0], path[1], weight = 1)\n",
    "  return G"
   ]
  },
  {
   "cell_type": "code",
   "execution_count": 5,
   "metadata": {
    "id": "cwoPFV0YcxM2"
   },
   "outputs": [],
   "source": [
    "filtered, fateprops = filter_organoids(data)\n",
    "xys, fates, ranges = to_xy(filtered), to_fate(filtered), to_range(filtered)"
   ]
  },
  {
   "cell_type": "code",
   "execution_count": 8,
   "metadata": {
    "colab": {
     "base_uri": "https://localhost:8080/",
     "height": 354
    },
    "id": "4iRVWBnR9ipM",
    "outputId": "180bf7f2-6e33-47c5-a1c0-5d04eb484d0a"
   },
   "outputs": [
    {
     "name": "stdout",
     "output_type": "stream",
     "text": [
      "Number of organoids, max q, min q:  1427 0.9983895822509488 0.0003403764203055\n"
     ]
    },
    {
     "data": {
      "image/png": "[encoded data removed]",
      "text/plain": [
       "<Figure size 432x288 with 1 Axes>"
      ]
     },
     "metadata": {},
     "output_type": "display_data"
    }
   ],
   "source": [
    "print(\"Number of organoids, max q, min q: \", len(filtered), max(ranges), min(ranges))\n",
    "G = create_graph(xys[0])\n",
    "\n",
    "nx.draw(G, pos = xys[0], node_color = fates[0], cmap = plt.cm.get_cmap(\"PiYG\").reversed())\n",
    "plt.savefig(\"../figures/graph_example.png\", dpi =300)\n"
   ]
  },
  {
   "cell_type": "markdown",
   "metadata": {
    "id": "jgMU1QHPcCtS"
   },
   "source": [
    "## Creation of datasets and loaders\n"
   ]
  },
  {
   "cell_type": "code",
   "execution_count": 9,
   "metadata": {
    "id": "wICIS-SVpKQ3"
   },
   "outputs": [],
   "source": [
    "class OrgDataset(Dataset):\n",
    "  def __init__(self, **kwargs):\n",
    "    self.nodes = 150\n",
    "    #self.feats = 1\n",
    "\n",
    "    super().__init__(**kwargs)\n",
    "  \n",
    "  def read(self):\n",
    "    output = []\n",
    "    for xy, fate, __range in zip(xys, fates, ranges):\n",
    "      G = create_graph(xy)\n",
    "      a = nx.convert_matrix.to_scipy_sparse_matrix(G)\n",
    "      output.append(\n",
    "            Graph(x=fate, a=a, y=np.array([__range]))\n",
    "        )\n",
    "    return output\n"
   ]
  },
  {
   "cell_type": "code",
   "execution_count": 10,
   "metadata": {
    "colab": {
     "base_uri": "https://localhost:8080/"
    },
    "id": "EXqEu0nH45qf",
    "outputId": "5d0c4e8b-fedd-428d-efde-8fddfe8ecd79"
   },
   "outputs": [
    {
     "name": "stderr",
     "output_type": "stream",
     "text": [
      "/tmp/ipykernel_13876/2795198958.py:12: DeprecationWarning: \n",
      "\n",
      "The scipy.sparse array containers will be used instead of matrices\n",
      "in Networkx 3.0. Use `to_scipy_sparse_array` instead.\n",
      "  a = nx.convert_matrix.to_scipy_sparse_matrix(G)\n",
      "/home/jo/miniconda3/lib/python3.9/site-packages/spektral/data/graph.py:67: UserWarning: x was automatically reshaped to (150, 1)\n",
      "  warnings.warn(f\"x was automatically reshaped to {x.shape}\")\n"
     ]
    }
   ],
   "source": [
    "from tensorflow.python.ops.gen_dataset_ops import dataset_cardinality\n",
    "epochs = 100  # Number of training epochs\n",
    "es_patience = 10  # Patience for early stopping\n",
    "batch_size = 100  # Batch size\n",
    "\n",
    "dataset = OrgDataset()\n",
    "\n",
    "# Train/valid/test split\n",
    "idxs = np.random.permutation(len(dataset))\n",
    "split_va, split_te = int(0.8 * len(dataset)), int(0.9 * len(dataset))\n",
    "idx_tr, idx_va, idx_te = np.split(idxs, [split_va, split_te])\n",
    "data_tr = dataset[idx_tr]\n",
    "data_va = dataset[idx_va]\n",
    "data_te = dataset[idx_te]\n",
    "\n",
    "# Data loaders\n",
    "loader_tr = DisjointLoader(data_tr, batch_size = batch_size)\n",
    "loader_va = DisjointLoader(data_va, batch_size = batch_size)\n",
    "loader_te = DisjointLoader(data_te, batch_size = batch_size)\n"
   ]
  },
  {
   "cell_type": "markdown",
   "metadata": {
    "id": "MM5_JH7wcH91"
   },
   "source": [
    "## Model building and training"
   ]
  },
  {
   "cell_type": "code",
   "execution_count": null,
   "metadata": {
    "colab": {
     "base_uri": "https://localhost:8080/",
     "height": 1000
    },
    "id": "PHzhVLdZLY9R",
    "outputId": "7a726439-72de-4b41-e0c3-163715928164"
   },
   "outputs": [
    {
     "name": "stdout",
     "output_type": "stream",
     "text": [
      "Epoch 1/100\n"
     ]
    },
    {
     "name": "stderr",
     "output_type": "stream",
     "text": [
      "2022-08-05 13:13:33.154002: W tensorflow/stream_executor/platform/default/dso_loader.cc:64] Could not load dynamic library 'libcuda.so.1'; dlerror: libcuda.so.1: cannot open shared object file: No such file or directory\n",
      "2022-08-05 13:13:33.154024: W tensorflow/stream_executor/cuda/cuda_driver.cc:269] failed call to cuInit: UNKNOWN ERROR (303)\n",
      "2022-08-05 13:13:33.154037: I tensorflow/stream_executor/cuda/cuda_diagnostics.cc:156] kernel driver does not appear to be running on this host (jos): /proc/driver/nvidia/version does not exist\n",
      "2022-08-05 13:13:33.154229: I tensorflow/core/platform/cpu_feature_guard.cc:193] This TensorFlow binary is optimized with oneAPI Deep Neural Network Library (oneDNN) to use the following CPU instructions in performance-critical operations:  AVX2 AVX512F AVX512_VNNI FMA\n",
      "To enable them in other operations, rebuild TensorFlow with the appropriate compiler flags.\n",
      "/home/jo/miniconda3/lib/python3.9/site-packages/keras/optimizers/optimizer_v2/adam.py:110: UserWarning: The `lr` argument is deprecated, use `learning_rate` instead.\n",
      "  super(Adam, self).__init__(name, **kwargs)\n",
      "/home/jo/miniconda3/lib/python3.9/site-packages/tensorflow/python/framework/indexed_slices.py:444: UserWarning: Converting sparse IndexedSlices(IndexedSlices(indices=Tensor(\"gradient_tape/net/global_attn_sum_pool/Reshape_1:0\", shape=(None,), dtype=int64), values=Tensor(\"gradient_tape/net/global_attn_sum_pool/Reshape:0\", shape=(None,), dtype=float32), dense_shape=Tensor(\"gradient_tape/net/global_attn_sum_pool/Cast:0\", shape=(1,), dtype=int32))) to a dense Tensor of unknown shape. This may consume a large amount of memory.\n",
      "  warnings.warn(\n",
      "/home/jo/miniconda3/lib/python3.9/site-packages/tensorflow/python/framework/indexed_slices.py:444: UserWarning: Converting sparse IndexedSlices(IndexedSlices(indices=Tensor(\"gradient_tape/net/global_attn_sum_pool/Reshape_4:0\", shape=(None,), dtype=int64), values=Tensor(\"gradient_tape/net/global_attn_sum_pool/Reshape_3:0\", shape=(None,), dtype=float32), dense_shape=Tensor(\"gradient_tape/net/global_attn_sum_pool/Cast_1:0\", shape=(1,), dtype=int32))) to a dense Tensor of unknown shape. This may consume a large amount of memory.\n",
      "  warnings.warn(\n"
     ]
    },
    {
     "name": "stdout",
     "output_type": "stream",
     "text": [
      "\r",
      " 1/12 [=>............................] - ETA: 15s - loss: 0.1542"
     ]
    },
    {
     "name": "stderr",
     "output_type": "stream",
     "text": [
      "/home/jo/miniconda3/lib/python3.9/site-packages/spektral/data/utils.py:221: UserWarning: you are shuffling a 'OrgDataset' object which is not a subclass of 'Sequence'; `shuffle` is not guaranteed to behave correctly. E.g., non-numpy array/tensor objects with view semantics may contain duplicates after shuffling.\n",
      "  np.random.shuffle(a)\n"
     ]
    },
    {
     "name": "stdout",
     "output_type": "stream",
     "text": [
      "12/12 [==============================] - 3s 143ms/step - loss: 0.1282 - val_loss: 0.0489 - lr: 0.0050\n",
      "Epoch 2/100\n",
      "12/12 [==============================] - 2s 135ms/step - loss: 0.0418 - val_loss: 0.0294 - lr: 0.0050\n",
      "Epoch 3/100\n",
      "12/12 [==============================] - 2s 136ms/step - loss: 0.0297 - val_loss: 0.0229 - lr: 0.0050\n",
      "Epoch 4/100\n",
      "12/12 [==============================] - 2s 138ms/step - loss: 0.0262 - val_loss: 0.0206 - lr: 0.0050\n",
      "Epoch 5/100\n",
      "12/12 [==============================] - 2s 135ms/step - loss: 0.0198 - val_loss: 0.0154 - lr: 0.0050\n",
      "Epoch 6/100\n",
      "12/12 [==============================] - 2s 136ms/step - loss: 0.0133 - val_loss: 0.0093 - lr: 0.0050\n",
      "Epoch 7/100\n",
      "12/12 [==============================] - 2s 135ms/step - loss: 0.0080 - val_loss: 0.0113 - lr: 0.0050\n",
      "Epoch 8/100\n",
      "12/12 [==============================] - 2s 137ms/step - loss: 0.0071 - val_loss: 0.0116 - lr: 0.0050\n",
      "Epoch 9/100\n",
      "12/12 [==============================] - 2s 136ms/step - loss: 0.0088 - val_loss: 0.0075 - lr: 0.0050\n",
      "Epoch 10/100\n",
      "12/12 [==============================] - 2s 136ms/step - loss: 0.0086 - val_loss: 0.0117 - lr: 0.0050\n",
      "Epoch 11/100\n",
      "12/12 [==============================] - 2s 134ms/step - loss: 0.0076 - val_loss: 0.0075 - lr: 0.0050\n",
      "Epoch 12/100\n",
      "12/12 [==============================] - 2s 138ms/step - loss: 0.0058 - val_loss: 0.0074 - lr: 0.0050\n",
      "Epoch 13/100\n",
      "12/12 [==============================] - 2s 136ms/step - loss: 0.0053 - val_loss: 0.0045 - lr: 0.0050\n",
      "Epoch 14/100\n",
      "12/12 [==============================] - 2s 136ms/step - loss: 0.0049 - val_loss: 0.0070 - lr: 0.0050\n",
      "Epoch 15/100\n",
      "12/12 [==============================] - 2s 135ms/step - loss: 0.0058 - val_loss: 0.0046 - lr: 0.0050\n",
      "Epoch 16/100\n",
      "12/12 [==============================] - 2s 135ms/step - loss: 0.0053 - val_loss: 0.0050 - lr: 0.0050\n",
      "Epoch 17/100\n",
      "12/12 [==============================] - 2s 135ms/step - loss: 0.0043 - val_loss: 0.0046 - lr: 0.0050\n",
      "Epoch 18/100\n",
      "12/12 [==============================] - 2s 136ms/step - loss: 0.0050 - val_loss: 0.0057 - lr: 0.0050\n",
      "Epoch 19/100\n",
      "12/12 [==============================] - 2s 133ms/step - loss: 0.0044 - val_loss: 0.0045 - lr: 0.0050\n",
      "Epoch 20/100\n",
      "12/12 [==============================] - 2s 134ms/step - loss: 0.0044 - val_loss: 0.0047 - lr: 0.0050\n",
      "Epoch 21/100\n",
      "12/12 [==============================] - 2s 137ms/step - loss: 0.0048 - val_loss: 0.0042 - lr: 0.0050\n",
      "Epoch 22/100\n",
      "12/12 [==============================] - 2s 137ms/step - loss: 0.0046 - val_loss: 0.0063 - lr: 0.0050\n",
      "Epoch 23/100\n",
      "12/12 [==============================] - 2s 135ms/step - loss: 0.0045 - val_loss: 0.0040 - lr: 0.0050\n",
      "Epoch 24/100\n",
      "12/12 [==============================] - 2s 135ms/step - loss: 0.0044 - val_loss: 0.0040 - lr: 0.0050\n",
      "Epoch 25/100\n",
      "12/12 [==============================] - 2s 135ms/step - loss: 0.0041 - val_loss: 0.0043 - lr: 0.0050\n",
      "Epoch 26/100\n",
      "12/12 [==============================] - 2s 135ms/step - loss: 0.0047 - val_loss: 0.0062 - lr: 0.0050\n",
      "Epoch 27/100\n",
      "12/12 [==============================] - 2s 135ms/step - loss: 0.0049 - val_loss: 0.0049 - lr: 0.0050\n",
      "Epoch 28/100\n",
      "12/12 [==============================] - 2s 135ms/step - loss: 0.0045 - val_loss: 0.0039 - lr: 0.0050\n",
      "Epoch 29/100\n",
      "12/12 [==============================] - 2s 135ms/step - loss: 0.0041 - val_loss: 0.0044 - lr: 0.0050\n",
      "Epoch 30/100\n",
      "12/12 [==============================] - 2s 135ms/step - loss: 0.0042 - val_loss: 0.0062 - lr: 0.0050\n",
      "Epoch 31/100\n",
      "12/12 [==============================] - 2s 134ms/step - loss: 0.0043 - val_loss: 0.0044 - lr: 0.0050\n",
      "Epoch 32/100\n",
      "12/12 [==============================] - 2s 134ms/step - loss: 0.0044 - val_loss: 0.0050 - lr: 0.0050\n",
      "Epoch 33/100\n",
      "12/12 [==============================] - 2s 135ms/step - loss: 0.0045 - val_loss: 0.0064 - lr: 0.0050\n",
      "Epoch 34/100\n",
      "12/12 [==============================] - 2s 136ms/step - loss: 0.0064 - val_loss: 0.0074 - lr: 0.0050\n",
      "Epoch 35/100\n",
      "12/12 [==============================] - 2s 136ms/step - loss: 0.0057 - val_loss: 0.0053 - lr: 0.0050\n",
      "Epoch 36/100\n",
      "12/12 [==============================] - 2s 136ms/step - loss: 0.0048 - val_loss: 0.0058 - lr: 0.0050\n",
      "Epoch 37/100\n",
      "12/12 [==============================] - 2s 137ms/step - loss: 0.0054 - val_loss: 0.0055 - lr: 0.0050\n",
      "Epoch 38/100\n",
      "12/12 [==============================] - 2s 139ms/step - loss: 0.0049 - val_loss: 0.0047 - lr: 0.0050\n",
      "Epoch 39/100\n",
      "12/12 [==============================] - 2s 137ms/step - loss: 0.0037 - val_loss: 0.0036 - lr: 1.0000e-03\n",
      "Epoch 40/100\n",
      "12/12 [==============================] - 2s 139ms/step - loss: 0.0035 - val_loss: 0.0036 - lr: 1.0000e-03\n",
      "Epoch 41/100\n",
      "12/12 [==============================] - 2s 139ms/step - loss: 0.0035 - val_loss: 0.0036 - lr: 1.0000e-03\n",
      "Epoch 42/100\n",
      "12/12 [==============================] - 2s 138ms/step - loss: 0.0035 - val_loss: 0.0035 - lr: 1.0000e-03\n",
      "Epoch 43/100\n",
      "12/12 [==============================] - 2s 138ms/step - loss: 0.0034 - val_loss: 0.0036 - lr: 1.0000e-03\n",
      "Epoch 44/100\n",
      "12/12 [==============================] - 2s 139ms/step - loss: 0.0035 - val_loss: 0.0037 - lr: 1.0000e-03\n",
      "Epoch 45/100\n",
      "12/12 [==============================] - 2s 138ms/step - loss: 0.0034 - val_loss: 0.0035 - lr: 1.0000e-03\n",
      "Epoch 46/100\n",
      "12/12 [==============================] - 2s 139ms/step - loss: 0.0034 - val_loss: 0.0036 - lr: 1.0000e-03\n",
      "Epoch 47/100\n",
      "12/12 [==============================] - 2s 141ms/step - loss: 0.0034 - val_loss: 0.0036 - lr: 1.0000e-03\n",
      "Epoch 48/100\n",
      "12/12 [==============================] - 2s 139ms/step - loss: 0.0034 - val_loss: 0.0037 - lr: 1.0000e-03\n",
      "Epoch 49/100\n",
      "12/12 [==============================] - 2s 137ms/step - loss: 0.0035 - val_loss: 0.0035 - lr: 1.0000e-03\n",
      "Epoch 50/100\n",
      "12/12 [==============================] - 2s 140ms/step - loss: 0.0034 - val_loss: 0.0036 - lr: 1.0000e-03\n",
      "Epoch 51/100\n",
      "12/12 [==============================] - 2s 139ms/step - loss: 0.0034 - val_loss: 0.0036 - lr: 1.0000e-03\n",
      "Epoch 52/100\n",
      "12/12 [==============================] - 2s 139ms/step - loss: 0.0034 - val_loss: 0.0037 - lr: 1.0000e-03\n",
      "Epoch 53/100\n",
      "12/12 [==============================] - 2s 139ms/step - loss: 0.0034 - val_loss: 0.0036 - lr: 1.0000e-03\n",
      "Epoch 54/100\n",
      "12/12 [==============================] - 2s 137ms/step - loss: 0.0034 - val_loss: 0.0035 - lr: 1.0000e-03\n",
      "Epoch 55/100\n",
      "12/12 [==============================] - 2s 139ms/step - loss: 0.0035 - val_loss: 0.0035 - lr: 1.0000e-03\n",
      "Epoch 56/100\n",
      "12/12 [==============================] - 2s 141ms/step - loss: 0.0034 - val_loss: 0.0036 - lr: 1.0000e-03\n",
      "Epoch 57/100\n",
      "12/12 [==============================] - 2s 140ms/step - loss: 0.0034 - val_loss: 0.0036 - lr: 1.0000e-03\n",
      "Epoch 58/100\n",
      "12/12 [==============================] - 2s 151ms/step - loss: 0.0033 - val_loss: 0.0036 - lr: 1.0000e-03\n",
      "Epoch 59/100\n",
      "12/12 [==============================] - 2s 140ms/step - loss: 0.0033 - val_loss: 0.0037 - lr: 1.0000e-03\n",
      "Epoch 60/100\n",
      " 8/12 [===================>..........] - ETA: 0s - loss: 0.0033"
     ]
    }
   ],
   "source": [
    "from spektral.layers import GCSConv\n",
    "from spektral.layers import SRCPool, GlobalAttentionPool, GlobalAttnSumPool\n",
    "#vorher war gscconv\n",
    "\n",
    "def get_callbacks():\n",
    "  return [\n",
    "tf.keras.callbacks.ReduceLROnPlateau(monitor='val_loss', patience=10, factor = 0.2)  ]\n",
    "################################################################################\n",
    "# Build model\n",
    "################################################################################\n",
    "class Net(Model):\n",
    "    def __init__(self):\n",
    "        super().__init__()\n",
    "        self.conv1 = GCSConv(450, activation=\"relu\")\n",
    "        self.conv2 = GCSConv(150, activation=\"sigmoid\")\n",
    "        self.global_pool = GlobalAttnSumPool()\n",
    "        self.dense1 = Dense(50, activation=\"relu\")\n",
    "        self.flatten1 = tf.keras.layers.Flatten()\n",
    "        self.dense2 = Dense(1, activation=\"sigmoid\")\n",
    "\n",
    "    def call(self, inputs):\n",
    "        x = inputs[0]\n",
    "        a = inputs[1]\n",
    "        i = inputs[2]\n",
    "        x = self.conv1([x, a])\n",
    "        x = self.conv2([x, a])\n",
    "        output = self.global_pool([x, i])\n",
    "        output = self.dense1(output)\n",
    "        output = self.flatten1(output)\n",
    "        output = self.dense2(output)\n",
    "\n",
    "        return output\n",
    "\n",
    "model = Net()\n",
    "\n",
    "optimizer = Adam(lr=0.005)\n",
    "loss_fn = MeanSquaredError()\n",
    "\n",
    "model.compile(optimizer, loss_fn)\n",
    "model.fit(loader_tr.load(), steps_per_epoch=loader_tr.steps_per_epoch, validation_data = loader_va.load(), validation_steps = loader_va.steps_per_epoch, verbose = 1, epochs= 100, callbacks = get_callbacks())\n",
    "#model.save(\"Model1.2D\")"
   ]
  },
  {
   "cell_type": "markdown",
   "metadata": {
    "id": "nr0xcp-ncM0Q"
   },
   "source": [
    "## Model testing"
   ]
  },
  {
   "cell_type": "code",
   "execution_count": null,
   "metadata": {
    "colab": {
     "base_uri": "https://localhost:8080/"
    },
    "id": "xfq6XynBEdqN",
    "outputId": "f1c7489d-8caf-48b0-ba3f-518c9f7b4958"
   },
   "outputs": [
    {
     "name": "stderr",
     "output_type": "stream",
     "text": [
      "/usr/local/lib/python3.7/dist-packages/spektral/data/utils.py:221: UserWarning: you are shuffling a 'OrgDataset' object which is not a subclass of 'Sequence'; `shuffle` is not guaranteed to behave correctly. E.g., non-numpy array/tensor objects with view semantics may contain duplicates after shuffling.\n",
      "  np.random.shuffle(a)\n"
     ]
    }
   ],
   "source": [
    "input, target = loader_te.__next__()\n",
    "preds = model.predict_on_batch(input)\n"
   ]
  },
  {
   "cell_type": "code",
   "execution_count": null,
   "metadata": {
    "colab": {
     "base_uri": "https://localhost:8080/",
     "height": 330
    },
    "id": "OsebdYDd-Oj_",
    "outputId": "522fec82-aa0c-4320-85fd-a0ec316fdb03"
   },
   "outputs": [
    {
     "name": "stdout",
     "output_type": "stream",
     "text": [
      "MSE: 0.003473291638120439\n",
      "100\n"
     ]
    },
    {
     "data": {
      "image/png": "[encoded data removed]",
      "text/plain": [
       "<Figure size 432x288 with 1 Axes>"
      ]
     },
     "metadata": {
      "needs_background": "light"
     },
     "output_type": "display_data"
    }
   ],
   "source": [
    "predictions_np = np.array([round(0.05*round(elem[0]/0.05), 2) for elem in preds]).reshape(100,1)\n",
    "#model = tf.keras.load_model(\"Model1.2D\")\n",
    "\n",
    "def plot_er_hist(errors):\n",
    "  bin = np.arange(-0.5, 0.55, 0.05)\n",
    "  plt.hist(errors, bins = bin, density=False, weights=(np.zeros_like(errors) + 1. / errors.size)*100, facecolor=\"grey\", edgecolor=\"black\")\n",
    "  plt.xticks(bin[::2])\n",
    "  plt.yticks(range(0, 45, 5))\n",
    "  plt.axvline(0, color='C1', linestyle='dashed', linewidth=2)\n",
    "  plt.xlabel(\"Error of prediction\")\n",
    "  plt.ylabel(\"Frequency in %\")\n",
    "\n",
    "plot_er_hist((predictions_np - target))\n",
    "print(\"MSE:\", np.mean((target-predictions_np)**2))\n",
    "plt.title(\"Model1.2D, MSE: \" +  str(round(np.mean((target-predictions_np)**2), 4)))\n",
    "plt.savefig(\"../figures/M1.2D_errors.png\", dpi = 300)"
   ]
  }
 ],
 "metadata": {
  "colab": {
   "collapsed_sections": [],
   "name": "Model1.2D.ipynb",
   "provenance": []
  },
  "kernelspec": {
   "display_name": "worklab",
   "language": "python",
   "name": "worklab"
  },
  "language_info": {
   "codemirror_mode": {
    "name": "ipython",
    "version": 3
   },
   "file_extension": ".py",
   "mimetype": "text/x-python",
   "name": "python",
   "nbconvert_exporter": "python",
   "pygments_lexer": "ipython3",
   "version": "3.9.7"
  }
 },
 "nbformat": 4,
 "nbformat_minor": 1
}
